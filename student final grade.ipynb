{
 "cells": [
  {
   "cell_type": "code",
   "execution_count": 34,
   "metadata": {},
   "outputs": [],
   "source": [
    "import numpy as np\n",
    "import pandas as pd\n",
    "import matplotlib.pyplot as plt\n",
    "import sklearn\n",
    "from sklearn import linear_model"
   ]
  },
  {
   "cell_type": "code",
   "execution_count": 35,
   "metadata": {},
   "outputs": [
    {
     "data": {
      "text/html": [
       "<div>\n",
       "<style scoped>\n",
       "    .dataframe tbody tr th:only-of-type {\n",
       "        vertical-align: middle;\n",
       "    }\n",
       "\n",
       "    .dataframe tbody tr th {\n",
       "        vertical-align: top;\n",
       "    }\n",
       "\n",
       "    .dataframe thead th {\n",
       "        text-align: right;\n",
       "    }\n",
       "</style>\n",
       "<table border=\"1\" class=\"dataframe\">\n",
       "  <thead>\n",
       "    <tr style=\"text-align: right;\">\n",
       "      <th></th>\n",
       "      <th>school</th>\n",
       "      <th>sex</th>\n",
       "      <th>age</th>\n",
       "      <th>address</th>\n",
       "      <th>famsize</th>\n",
       "      <th>Pstatus</th>\n",
       "      <th>Medu</th>\n",
       "      <th>Fedu</th>\n",
       "      <th>Mjob</th>\n",
       "      <th>Fjob</th>\n",
       "      <th>...</th>\n",
       "      <th>famrel</th>\n",
       "      <th>freetime</th>\n",
       "      <th>goout</th>\n",
       "      <th>Dalc</th>\n",
       "      <th>Walc</th>\n",
       "      <th>health</th>\n",
       "      <th>absences</th>\n",
       "      <th>G1</th>\n",
       "      <th>G2</th>\n",
       "      <th>G3</th>\n",
       "    </tr>\n",
       "  </thead>\n",
       "  <tbody>\n",
       "    <tr>\n",
       "      <th>0</th>\n",
       "      <td>GP</td>\n",
       "      <td>F</td>\n",
       "      <td>18</td>\n",
       "      <td>U</td>\n",
       "      <td>GT3</td>\n",
       "      <td>A</td>\n",
       "      <td>4</td>\n",
       "      <td>4</td>\n",
       "      <td>at_home</td>\n",
       "      <td>teacher</td>\n",
       "      <td>...</td>\n",
       "      <td>4</td>\n",
       "      <td>3</td>\n",
       "      <td>4</td>\n",
       "      <td>1</td>\n",
       "      <td>1</td>\n",
       "      <td>3</td>\n",
       "      <td>6</td>\n",
       "      <td>5</td>\n",
       "      <td>6</td>\n",
       "      <td>6</td>\n",
       "    </tr>\n",
       "    <tr>\n",
       "      <th>1</th>\n",
       "      <td>GP</td>\n",
       "      <td>F</td>\n",
       "      <td>17</td>\n",
       "      <td>U</td>\n",
       "      <td>GT3</td>\n",
       "      <td>T</td>\n",
       "      <td>1</td>\n",
       "      <td>1</td>\n",
       "      <td>at_home</td>\n",
       "      <td>other</td>\n",
       "      <td>...</td>\n",
       "      <td>5</td>\n",
       "      <td>3</td>\n",
       "      <td>3</td>\n",
       "      <td>1</td>\n",
       "      <td>1</td>\n",
       "      <td>3</td>\n",
       "      <td>4</td>\n",
       "      <td>5</td>\n",
       "      <td>5</td>\n",
       "      <td>6</td>\n",
       "    </tr>\n",
       "    <tr>\n",
       "      <th>2</th>\n",
       "      <td>GP</td>\n",
       "      <td>F</td>\n",
       "      <td>15</td>\n",
       "      <td>U</td>\n",
       "      <td>LE3</td>\n",
       "      <td>T</td>\n",
       "      <td>1</td>\n",
       "      <td>1</td>\n",
       "      <td>at_home</td>\n",
       "      <td>other</td>\n",
       "      <td>...</td>\n",
       "      <td>4</td>\n",
       "      <td>3</td>\n",
       "      <td>2</td>\n",
       "      <td>2</td>\n",
       "      <td>3</td>\n",
       "      <td>3</td>\n",
       "      <td>10</td>\n",
       "      <td>7</td>\n",
       "      <td>8</td>\n",
       "      <td>10</td>\n",
       "    </tr>\n",
       "    <tr>\n",
       "      <th>3</th>\n",
       "      <td>GP</td>\n",
       "      <td>F</td>\n",
       "      <td>15</td>\n",
       "      <td>U</td>\n",
       "      <td>GT3</td>\n",
       "      <td>T</td>\n",
       "      <td>4</td>\n",
       "      <td>2</td>\n",
       "      <td>health</td>\n",
       "      <td>services</td>\n",
       "      <td>...</td>\n",
       "      <td>3</td>\n",
       "      <td>2</td>\n",
       "      <td>2</td>\n",
       "      <td>1</td>\n",
       "      <td>1</td>\n",
       "      <td>5</td>\n",
       "      <td>2</td>\n",
       "      <td>15</td>\n",
       "      <td>14</td>\n",
       "      <td>15</td>\n",
       "    </tr>\n",
       "    <tr>\n",
       "      <th>4</th>\n",
       "      <td>GP</td>\n",
       "      <td>F</td>\n",
       "      <td>16</td>\n",
       "      <td>U</td>\n",
       "      <td>GT3</td>\n",
       "      <td>T</td>\n",
       "      <td>3</td>\n",
       "      <td>3</td>\n",
       "      <td>other</td>\n",
       "      <td>other</td>\n",
       "      <td>...</td>\n",
       "      <td>4</td>\n",
       "      <td>3</td>\n",
       "      <td>2</td>\n",
       "      <td>1</td>\n",
       "      <td>2</td>\n",
       "      <td>5</td>\n",
       "      <td>4</td>\n",
       "      <td>6</td>\n",
       "      <td>10</td>\n",
       "      <td>10</td>\n",
       "    </tr>\n",
       "  </tbody>\n",
       "</table>\n",
       "<p>5 rows × 33 columns</p>\n",
       "</div>"
      ],
      "text/plain": [
       "  school sex  age address famsize Pstatus  Medu  Fedu     Mjob      Fjob  ...  \\\n",
       "0     GP   F   18       U     GT3       A     4     4  at_home   teacher  ...   \n",
       "1     GP   F   17       U     GT3       T     1     1  at_home     other  ...   \n",
       "2     GP   F   15       U     LE3       T     1     1  at_home     other  ...   \n",
       "3     GP   F   15       U     GT3       T     4     2   health  services  ...   \n",
       "4     GP   F   16       U     GT3       T     3     3    other     other  ...   \n",
       "\n",
       "  famrel freetime  goout  Dalc  Walc health absences  G1  G2  G3  \n",
       "0      4        3      4     1     1      3        6   5   6   6  \n",
       "1      5        3      3     1     1      3        4   5   5   6  \n",
       "2      4        3      2     2     3      3       10   7   8  10  \n",
       "3      3        2      2     1     1      5        2  15  14  15  \n",
       "4      4        3      2     1     2      5        4   6  10  10  \n",
       "\n",
       "[5 rows x 33 columns]"
      ]
     },
     "execution_count": 35,
     "metadata": {},
     "output_type": "execute_result"
    }
   ],
   "source": [
    "data = pd.read_csv('student-mat.csv', sep = ';', encoding = 'utf8')\n",
    "data.head()"
   ]
  },
  {
   "cell_type": "code",
   "execution_count": 36,
   "metadata": {},
   "outputs": [],
   "source": [
    "data = data[['G1','G2','G3']]\n",
    "predict = 'G3'\n",
    "\n",
    "X = np.array(data.drop([predict],1))\n",
    "Y  =np.array(data[predict])"
   ]
  },
  {
   "cell_type": "code",
   "execution_count": 37,
   "metadata": {},
   "outputs": [],
   "source": [
    "X_train, X_test, Y_train, Y_test = sklearn.model_selection.train_test_split(X,Y, test_size = 0.33, random_state = 42)"
   ]
  },
  {
   "cell_type": "code",
   "execution_count": 38,
   "metadata": {},
   "outputs": [
    {
     "data": {
      "text/plain": [
       "LinearRegression()"
      ]
     },
     "execution_count": 38,
     "metadata": {},
     "output_type": "execute_result"
    }
   ],
   "source": [
    "regr = linear_model.LinearRegression() \n",
    "regr.fit(X_train,Y_train)"
   ]
  },
  {
   "cell_type": "code",
   "execution_count": 39,
   "metadata": {},
   "outputs": [
    {
     "name": "stdout",
     "output_type": "stream",
     "text": [
      "0.8022435486054964\n"
     ]
    }
   ],
   "source": [
    "#accuracy of the model\n",
    "\n",
    "accuracy = regr.score(X_test,Y_test)\n",
    "print(accuracy)"
   ]
  },
  {
   "cell_type": "code",
   "execution_count": 40,
   "metadata": {},
   "outputs": [
    {
     "data": {
      "text/plain": [
       "array([0.16671196, 0.98862477])"
      ]
     },
     "execution_count": 40,
     "metadata": {},
     "output_type": "execute_result"
    }
   ],
   "source": [
    "#coefficients of G1 and G2 respectively\n",
    "\n",
    "regr.coef_"
   ]
  },
  {
   "cell_type": "code",
   "execution_count": 41,
   "metadata": {},
   "outputs": [
    {
     "data": {
      "text/plain": [
       "-2.007161977788238"
      ]
     },
     "execution_count": 41,
     "metadata": {},
     "output_type": "execute_result"
    }
   ],
   "source": [
    "#intercept made by the line\n",
    "\n",
    "regr.intercept_"
   ]
  },
  {
   "cell_type": "code",
   "execution_count": 42,
   "metadata": {},
   "outputs": [],
   "source": [
    "predictions = regr.predict(X_test)"
   ]
  },
  {
   "cell_type": "code",
   "execution_count": 43,
   "metadata": {},
   "outputs": [
    {
     "name": "stdout",
     "output_type": "stream",
     "text": [
      "7.235531876886613 6\n",
      "12.190302720106784 6\n",
      "3.4360977655008007 10\n",
      "8.224156650779598 15\n",
      "8.39086860872097 10\n",
      "12.845503578117023 15\n",
      "18.955611153171553 11\n",
      "6.413619060935 6\n",
      "7.235531876886613 19\n",
      "12.678791620175652 15\n",
      "15.156177041785737 9\n",
      "6.080195145052256 12\n",
      "13.834128352010007 14\n",
      "11.690166846282667 11\n",
      "14.334264225834124 16\n",
      "7.7356677507107285 14\n",
      "6.246907102993628 14\n",
      "10.701542072389682 10\n",
      "15.48960095766848 5\n",
      "8.557580566662342 10\n",
      "14.16755226789275 15\n",
      "16.14480181567872 15\n",
      "15.156177041785737 16\n",
      "4.7581464552765285 12\n",
      "8.057444692838226 8\n",
      "19.77752396912316 8\n",
      "10.701542072389682 11\n",
      "9.212781424672583 15\n",
      "17.466850505454445 11\n",
      "10.701542072389682 11\n",
      "8.224156650779598 12\n",
      "7.235531876886613 17\n",
      "15.322888999727107 16\n",
      "12.845503578117023 12\n",
      "6.080195145052256 15\n",
      "3.936233639324916 6\n",
      "-1.3403141460227503 18\n",
      "15.156177041785737 15\n",
      "11.85687880422404 11\n",
      "7.890732734896854 13\n",
      "5.258282329100645 11\n",
      "10.201406198565566 12\n",
      "14.16755226789275 18\n",
      "8.39086860872097 11\n",
      "15.65631291560985 9\n",
      "9.712917298496698 6\n",
      "11.690166846282667 11\n",
      "14.334264225834124 20\n",
      "12.51207966223428 14\n",
      "15.65631291560985 7\n",
      "13.178927493999767 13\n",
      "15.156177041785737 13\n",
      "10.368118156506938 10\n",
      "8.224156650779598 11\n",
      "3.936233639324916 13\n",
      "12.51207966223428 10\n",
      "9.87962925643807 15\n",
      "5.913483187110884 15\n",
      "15.322888999727107 9\n",
      "16.64493768950284 16\n",
      "12.678791620175652 11\n",
      "8.224156650779598 11\n",
      "7.402243834827985 9\n",
      "3.936233639324916 9\n",
      "6.080195145052256 10\n",
      "17.466850505454445 15\n",
      "8.057444692838226 12\n",
      "9.546205340555327 6\n",
      "9.379493382613955 8\n",
      "15.322888999727107 16\n",
      "7.235531876886613 15\n",
      "9.379493382613955 10\n",
      "13.34563945194114 5\n",
      "19.77752396912316 14\n",
      "10.868254030331054 11\n",
      "5.091570371159273 10\n",
      "8.39086860872097 10\n",
      "14.334264225834124 11\n",
      "3.936233639324916 10\n",
      "12.845503578117023 5\n",
      "14.00084030995138 12\n",
      "6.246907102993628 11\n",
      "8.557580566662342 6\n",
      "8.224156650779598 15\n",
      "7.402243834827985 10\n",
      "13.834128352010007 8\n",
      "3.936233639324916 6\n",
      "10.868254030331054 14\n",
      "15.48960095766848 10\n",
      "-0.6734663142572628 7\n",
      "13.012215536058397 8\n",
      "8.557580566662342 18\n",
      "11.034965988272427 6\n",
      "9.712917298496698 10\n",
      "5.091570371159273 14\n",
      "7.235531876886613 10\n",
      "8.39086860872097 15\n",
      "18.455475279347432 10\n",
      "18.955611153171553 14\n",
      "14.00084030995138 8\n",
      "13.012215536058397 5\n",
      "11.85687880422404 17\n",
      "3.936233639324916 14\n",
      "9.212781424672583 6\n",
      "10.701542072389682 18\n",
      "6.246907102993628 11\n",
      "9.546205340555327 8\n",
      "6.413619060935 18\n",
      "8.724292524603714 13\n",
      "8.557580566662342 16\n",
      "5.091570371159273 19\n",
      "3.936233639324916 10\n",
      "10.53483011444831 13\n",
      "3.7695216813835444 19\n",
      "8.724292524603714 9\n",
      "18.78889919523018 16\n",
      "6.902107961003869 14\n",
      "6.080195145052256 13\n",
      "15.156177041785737 8\n",
      "9.212781424672583 13\n",
      "10.868254030331054 15\n",
      "8.557580566662342 15\n",
      "9.046069466731211 13\n",
      "15.48960095766848 13\n",
      "13.012215536058397 8\n",
      "11.85687880422404 12\n",
      "11.85687880422404 11\n",
      "6.080195145052256 9\n",
      "-1.1736021880813785 0\n",
      "7.235531876886613 18\n",
      "12.02359076216541 0\n"
     ]
    }
   ],
   "source": [
    "#comparsion between predicted grade and original grade \n",
    "\n",
    "for i in range(len(X_test)):\n",
    "    print(predictions[i], Y[i])"
   ]
  },
  {
   "cell_type": "code",
   "execution_count": 44,
   "metadata": {},
   "outputs": [
    {
     "data": {
      "text/plain": [
       "131"
      ]
     },
     "execution_count": 44,
     "metadata": {},
     "output_type": "execute_result"
    }
   ],
   "source": [
    "len(predictions)"
   ]
  },
  {
   "cell_type": "code",
   "execution_count": null,
   "metadata": {},
   "outputs": [],
   "source": []
  },
  {
   "cell_type": "code",
   "execution_count": null,
   "metadata": {},
   "outputs": [],
   "source": []
  }
 ],
 "metadata": {
  "kernelspec": {
   "display_name": "Python 3",
   "language": "python",
   "name": "python3"
  },
  "language_info": {
   "codemirror_mode": {
    "name": "ipython",
    "version": 3
   },
   "file_extension": ".py",
   "mimetype": "text/x-python",
   "name": "python",
   "nbconvert_exporter": "python",
   "pygments_lexer": "ipython3",
   "version": "3.6.9"
  }
 },
 "nbformat": 4,
 "nbformat_minor": 4
}
